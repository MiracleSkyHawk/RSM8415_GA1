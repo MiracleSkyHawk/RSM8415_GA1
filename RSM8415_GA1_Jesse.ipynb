{
 "cells": [
  {
   "cell_type": "markdown",
   "id": "52c7f6d5",
   "metadata": {},
   "source": [
    "# 0. Import Packages"
   ]
  },
  {
   "cell_type": "code",
   "execution_count": 253,
   "id": "b75236a7",
   "metadata": {},
   "outputs": [
    {
     "name": "stderr",
     "output_type": "stream",
     "text": [
      "[nltk_data] Downloading package punkt to\n",
      "[nltk_data]     C:\\Users\\ddjgy\\AppData\\Roaming\\nltk_data...\n",
      "[nltk_data]   Package punkt is already up-to-date!\n",
      "[nltk_data] Downloading package stopwords to\n",
      "[nltk_data]     C:\\Users\\ddjgy\\AppData\\Roaming\\nltk_data...\n",
      "[nltk_data]   Package stopwords is already up-to-date!\n",
      "[nltk_data] Downloading package stopwords to\n",
      "[nltk_data]     C:\\Users\\ddjgy\\AppData\\Roaming\\nltk_data...\n",
      "[nltk_data]   Package stopwords is already up-to-date!\n",
      "[nltk_data] Downloading package wordnet to\n",
      "[nltk_data]     C:\\Users\\ddjgy\\AppData\\Roaming\\nltk_data...\n",
      "[nltk_data]   Package wordnet is already up-to-date!\n",
      "[nltk_data] Downloading package averaged_perceptron_tagger to\n",
      "[nltk_data]     C:\\Users\\ddjgy\\AppData\\Roaming\\nltk_data...\n",
      "[nltk_data]   Package averaged_perceptron_tagger is already up-to-\n",
      "[nltk_data]       date!\n"
     ]
    }
   ],
   "source": [
    "import os\n",
    "import pandas as pd\n",
    "import nltk\n",
    "nltk.download('punkt')\n",
    "from nltk.corpus import stopwords\n",
    "nltk.download('stopwords')\n",
    "from nltk.stem.porter import PorterStemmer\n",
    "import numpy as np\n",
    "from autocorrect import Speller\n",
    "from googletrans import Translator, constants\n",
    "from matplotlib import pyplot as plt\n",
    "import re\n",
    "from nltk.corpus import stopwords\n",
    "from nltk import pos_tag\n",
    "nltk.download('stopwords')\n",
    "nltk.download('wordnet')\n",
    "from nltk.corpus import wordnet\n",
    "nltk.download('averaged_perceptron_tagger')\n",
    "from sklearn.feature_extraction.text import CountVectorizer\n",
    "from sklearn.feature_extraction.text import TfidfVectorizer\n",
    "from sklearn.feature_extraction.text import CountVectorizer\n",
    "from sklearn.feature_selection import chi2\n",
    "from sklearn.feature_selection import SelectKBest\n",
    "import numpy as geek\n",
    "import researchpy as rp\n",
    "from sklearn.metrics import plot_confusion_matrix\n",
    "from sklearn.metrics import classification_report\n",
    "from sklearn.metrics import roc_auc_score\n",
    "from sklearn.preprocessing import OneHotEncoder\n",
    "from itertools import cycle\n",
    "from sklearn.model_selection import train_test_split\n",
    "from sklearn.naive_bayes import GaussianNB, BernoulliNB, MultinomialNB\n",
    "from sklearn import metrics\n",
    "from sklearn.metrics import classification_report,confusion_matrix,roc_curve,auc\n",
    "from imblearn.over_sampling import SMOTE\n",
    "from imblearn.under_sampling import NearMiss\n",
    "from textblob import TextBlob\n",
    "import seaborn as sns\n",
    "from nltk.stem import WordNetLemmatizer\n",
    "from nltk.stem.wordnet import WordNetLemmatizer\n",
    "from nltk import word_tokenize"
   ]
  },
  {
   "cell_type": "code",
   "execution_count": 254,
   "id": "13ddafe2",
   "metadata": {},
   "outputs": [],
   "source": [
    "from afinn import Afinn\n",
    "from nrclex import NRCLex"
   ]
  },
  {
   "cell_type": "markdown",
   "id": "66d32c6b",
   "metadata": {},
   "source": [
    "# 1. Clean Text Data"
   ]
  },
  {
   "cell_type": "code",
   "execution_count": 255,
   "id": "2449aa40",
   "metadata": {},
   "outputs": [
    {
     "data": {
      "text/html": [
       "<div>\n",
       "<style scoped>\n",
       "    .dataframe tbody tr th:only-of-type {\n",
       "        vertical-align: middle;\n",
       "    }\n",
       "\n",
       "    .dataframe tbody tr th {\n",
       "        vertical-align: top;\n",
       "    }\n",
       "\n",
       "    .dataframe thead th {\n",
       "        text-align: right;\n",
       "    }\n",
       "</style>\n",
       "<table border=\"1\" class=\"dataframe\">\n",
       "  <thead>\n",
       "    <tr style=\"text-align: right;\">\n",
       "      <th></th>\n",
       "      <th>SOURCE</th>\n",
       "      <th>REVIEW BY</th>\n",
       "      <th>REVIEW DATE</th>\n",
       "      <th>REVIEW SUBJECT</th>\n",
       "      <th>text</th>\n",
       "      <th>REVIEW RATING</th>\n",
       "      <th>REVIEW TYPE</th>\n",
       "    </tr>\n",
       "  </thead>\n",
       "  <tbody>\n",
       "    <tr>\n",
       "      <th>0</th>\n",
       "      <td>Trip Advisor</td>\n",
       "      <td>3612</td>\n",
       "      <td>2014-04-30</td>\n",
       "      <td>To commercial</td>\n",
       "      <td>This reativly new temple was a big hindu versi...</td>\n",
       "      <td>2</td>\n",
       "      <td>NEGATIVE</td>\n",
       "    </tr>\n",
       "    <tr>\n",
       "      <th>1</th>\n",
       "      <td>Trip Advisor</td>\n",
       "      <td>9573519851</td>\n",
       "      <td>2015-07-24</td>\n",
       "      <td>?Amazing temple in Bangalore?</td>\n",
       "      <td>Me and my friends enjoyed a lot in ISKCON temp...</td>\n",
       "      <td>5</td>\n",
       "      <td>POSITIVE</td>\n",
       "    </tr>\n",
       "    <tr>\n",
       "      <th>2</th>\n",
       "      <td>Trip Advisor</td>\n",
       "      <td>???? ?</td>\n",
       "      <td>2016-07-28</td>\n",
       "      <td>A well maintained temple</td>\n",
       "      <td>Otherworldly vibrations throuout the sanctuary...</td>\n",
       "      <td>5</td>\n",
       "      <td>POSITIVE</td>\n",
       "    </tr>\n",
       "    <tr>\n",
       "      <th>3</th>\n",
       "      <td>Trip Advisor</td>\n",
       "      <td>????? ?</td>\n",
       "      <td>2016-08-23</td>\n",
       "      <td>Temple</td>\n",
       "      <td>ISKCON temple is very good, located in west of...</td>\n",
       "      <td>5</td>\n",
       "      <td>POSITIVE</td>\n",
       "    </tr>\n",
       "    <tr>\n",
       "      <th>4</th>\n",
       "      <td>Google + HK HILL</td>\n",
       "      <td>????? Anil</td>\n",
       "      <td>2015-11-27</td>\n",
       "      <td>NaN</td>\n",
       "      <td>This is a very good place to be for all the de...</td>\n",
       "      <td>4</td>\n",
       "      <td>POSITIVE</td>\n",
       "    </tr>\n",
       "  </tbody>\n",
       "</table>\n",
       "</div>"
      ],
      "text/plain": [
       "             SOURCE   REVIEW BY REVIEW DATE                 REVIEW SUBJECT  \\\n",
       "0      Trip Advisor        3612  2014-04-30                  To commercial   \n",
       "1      Trip Advisor  9573519851  2015-07-24  ?Amazing temple in Bangalore?   \n",
       "2      Trip Advisor      ???? ?  2016-07-28       A well maintained temple   \n",
       "3      Trip Advisor     ????? ?  2016-08-23                         Temple   \n",
       "4  Google + HK HILL  ????? Anil  2015-11-27                            NaN   \n",
       "\n",
       "                                                text  REVIEW RATING  \\\n",
       "0  This reativly new temple was a big hindu versi...              2   \n",
       "1  Me and my friends enjoyed a lot in ISKCON temp...              5   \n",
       "2  Otherworldly vibrations throuout the sanctuary...              5   \n",
       "3  ISKCON temple is very good, located in west of...              5   \n",
       "4  This is a very good place to be for all the de...              4   \n",
       "\n",
       "  REVIEW TYPE  \n",
       "0    NEGATIVE  \n",
       "1    POSITIVE  \n",
       "2    POSITIVE  \n",
       "3    POSITIVE  \n",
       "4    POSITIVE  "
      ]
     },
     "execution_count": 255,
     "metadata": {},
     "output_type": "execute_result"
    }
   ],
   "source": [
    "raw_df = pd.read_excel('IMB767-XLS-ENG.xlsx', sheet_name='Data after removing duplicates')\n",
    "raw_df.head()"
   ]
  },
  {
   "cell_type": "code",
   "execution_count": 256,
   "id": "5792bb29",
   "metadata": {},
   "outputs": [
    {
     "data": {
      "text/html": [
       "<div>\n",
       "<style scoped>\n",
       "    .dataframe tbody tr th:only-of-type {\n",
       "        vertical-align: middle;\n",
       "    }\n",
       "\n",
       "    .dataframe tbody tr th {\n",
       "        vertical-align: top;\n",
       "    }\n",
       "\n",
       "    .dataframe thead th {\n",
       "        text-align: right;\n",
       "    }\n",
       "</style>\n",
       "<table border=\"1\" class=\"dataframe\">\n",
       "  <thead>\n",
       "    <tr style=\"text-align: right;\">\n",
       "      <th></th>\n",
       "      <th>SOURCE</th>\n",
       "      <th>REVIEW BY</th>\n",
       "      <th>REVIEW DATE</th>\n",
       "      <th>REVIEW SUBJECT</th>\n",
       "      <th>text</th>\n",
       "      <th>REVIEW RATING</th>\n",
       "      <th>REVIEW TYPE</th>\n",
       "    </tr>\n",
       "  </thead>\n",
       "  <tbody>\n",
       "    <tr>\n",
       "      <th>0</th>\n",
       "      <td>Trip Advisor</td>\n",
       "      <td>3612</td>\n",
       "      <td>2014-04-30</td>\n",
       "      <td>To commercial</td>\n",
       "      <td>This reativly new temple was a big hindu versi...</td>\n",
       "      <td>2</td>\n",
       "      <td>NEGATIVE</td>\n",
       "    </tr>\n",
       "    <tr>\n",
       "      <th>1</th>\n",
       "      <td>Trip Advisor</td>\n",
       "      <td>9573519851</td>\n",
       "      <td>2015-07-24</td>\n",
       "      <td>?Amazing temple in Bangalore?</td>\n",
       "      <td>Me and my friends enjoyed a lot in ISKCON temp...</td>\n",
       "      <td>5</td>\n",
       "      <td>POSITIVE</td>\n",
       "    </tr>\n",
       "    <tr>\n",
       "      <th>2</th>\n",
       "      <td>Trip Advisor</td>\n",
       "      <td>???? ?</td>\n",
       "      <td>2016-07-28</td>\n",
       "      <td>A well maintained temple</td>\n",
       "      <td>Otherworldly vibrations throuout the sanctuary...</td>\n",
       "      <td>5</td>\n",
       "      <td>POSITIVE</td>\n",
       "    </tr>\n",
       "    <tr>\n",
       "      <th>3</th>\n",
       "      <td>Trip Advisor</td>\n",
       "      <td>????? ?</td>\n",
       "      <td>2016-08-23</td>\n",
       "      <td>Temple</td>\n",
       "      <td>ISKCON temple is very good, located in west of...</td>\n",
       "      <td>5</td>\n",
       "      <td>POSITIVE</td>\n",
       "    </tr>\n",
       "    <tr>\n",
       "      <th>4</th>\n",
       "      <td>Google + HK HILL</td>\n",
       "      <td>????? Anil</td>\n",
       "      <td>2015-11-27</td>\n",
       "      <td>NaN</td>\n",
       "      <td>This is a very good place to be for all the de...</td>\n",
       "      <td>4</td>\n",
       "      <td>POSITIVE</td>\n",
       "    </tr>\n",
       "  </tbody>\n",
       "</table>\n",
       "</div>"
      ],
      "text/plain": [
       "             SOURCE   REVIEW BY REVIEW DATE                 REVIEW SUBJECT  \\\n",
       "0      Trip Advisor        3612  2014-04-30                  To commercial   \n",
       "1      Trip Advisor  9573519851  2015-07-24  ?Amazing temple in Bangalore?   \n",
       "2      Trip Advisor      ???? ?  2016-07-28       A well maintained temple   \n",
       "3      Trip Advisor     ????? ?  2016-08-23                         Temple   \n",
       "4  Google + HK HILL  ????? Anil  2015-11-27                            NaN   \n",
       "\n",
       "                                                text  REVIEW RATING  \\\n",
       "0  This reativly new temple was a big hindu versi...              2   \n",
       "1  Me and my friends enjoyed a lot in ISKCON temp...              5   \n",
       "2  Otherworldly vibrations throuout the sanctuary...              5   \n",
       "3  ISKCON temple is very good, located in west of...              5   \n",
       "4  This is a very good place to be for all the de...              4   \n",
       "\n",
       "  REVIEW TYPE  \n",
       "0    NEGATIVE  \n",
       "1    POSITIVE  \n",
       "2    POSITIVE  \n",
       "3    POSITIVE  \n",
       "4    POSITIVE  "
      ]
     },
     "execution_count": 256,
     "metadata": {},
     "output_type": "execute_result"
    }
   ],
   "source": [
    "raw_df = raw_df.dropna(subset=['text'])\n",
    "df = raw_df.copy(deep=True)\n",
    "df.head()"
   ]
  },
  {
   "cell_type": "code",
   "execution_count": 257,
   "id": "c3db0f56",
   "metadata": {},
   "outputs": [],
   "source": [
    "text_list = [str(comment) for comment in df['text'].tolist()]"
   ]
  },
  {
   "cell_type": "code",
   "execution_count": 258,
   "id": "ec16e8c3",
   "metadata": {},
   "outputs": [],
   "source": [
    "#dictionary consisting of the contraction and the actual value\n",
    "Apos_dict={\n",
    "    \"'d\":\" would\", \n",
    "    \"'m\":\" am\", \"`m\":\" am\", \"´m\": \" am\",\n",
    "    \"'ll\":\" will\", \"?ll\":\" will\", \n",
    "    \"'s\":\" is\", \"?s\":\" is\", \"´s\": \" is\",\n",
    "    \"'ve\":\" have\", \"´ve\": \" have\",\n",
    "    \"n;t\":\" not\", \"n?t\":\" not\", \"n,t\":\" not\", \"n't\": \" not\", \"n´t\": \" not\",\n",
    "    'is,it': \"is it\", 'is.it': \"is it\", \n",
    "    \"did'nt\": \"did not\",\n",
    "    \"'re\":\" are\", \"?re\": \" are\"\n",
    "    }\n",
    "for old, new in Apos_dict.items():\n",
    "    # replace\n",
    "    df.text = df.text.str.replace(old, new, regex=False)"
   ]
  },
  {
   "cell_type": "code",
   "execution_count": 259,
   "id": "60b12381",
   "metadata": {},
   "outputs": [],
   "source": [
    "everything_removed_list=[]\n",
    "for line in df.text:\n",
    "    # remove everything except space and english characters\n",
    "    line = re.sub('[^ A-Za-z]+', '', line) \n",
    "    everything_removed_list.append(line)\n",
    "\n",
    "df.text = everything_removed_list"
   ]
  },
  {
   "cell_type": "code",
   "execution_count": 260,
   "id": "119c2a97",
   "metadata": {},
   "outputs": [],
   "source": [
    "lower_list=[]\n",
    "for line in df.text:\n",
    "    line = line.lower()\n",
    "    lower_list.append(line)\n",
    "\n",
    "df.text = lower_list"
   ]
  },
  {
   "cell_type": "code",
   "execution_count": 261,
   "id": "be7f61df",
   "metadata": {},
   "outputs": [],
   "source": [
    "#open the file slang.txt\n",
    "file=open(\"slang.txt\",\"r\")\n",
    "slang=file.read()\n",
    "#separating each line present in the file\n",
    "slang=slang.split('\\n')\n",
    "slang.append('ur = you are')\n",
    "\n",
    "# creating dictionary from slang (which is list)\n",
    "slang_dict = {temp[0]: temp[-1] for temp in [line.split(\"=\") for line in slang]}\n",
    "\n",
    "for key,value in slang_dict.items():\n",
    "    if key in df.text:\n",
    "        # replace\n",
    "        df.text = df.text.replace(key,value, regex=False)"
   ]
  },
  {
   "cell_type": "code",
   "execution_count": 262,
   "id": "9c216dcd",
   "metadata": {},
   "outputs": [],
   "source": [
    "# Import stopwords with nltk.\n",
    "stop = stopwords.words('english')"
   ]
  },
  {
   "cell_type": "code",
   "execution_count": 263,
   "id": "d62181d6",
   "metadata": {},
   "outputs": [],
   "source": [
    "stop_remove_list=[]\n",
    "for line in df.text:\n",
    "    line = ' '.join([word for word in line.split(' ') if word not in stop])\n",
    "    stop_remove_list.append(line)\n",
    "\n",
    "df.text = stop_remove_list"
   ]
  },
  {
   "cell_type": "markdown",
   "id": "95e78c23",
   "metadata": {},
   "source": [
    "# Question 6"
   ]
  },
  {
   "cell_type": "markdown",
   "id": "9d0a3440",
   "metadata": {},
   "source": [
    "## AFINN Lexicon"
   ]
  },
  {
   "cell_type": "code",
   "execution_count": 264,
   "id": "90ce60c9",
   "metadata": {},
   "outputs": [],
   "source": [
    "df['AFFIN_score'] = df['text'].apply(lambda x: Afinn().score(x)/(len(x)))"
   ]
  },
  {
   "cell_type": "code",
   "execution_count": 265,
   "id": "33ab1c43",
   "metadata": {},
   "outputs": [
    {
     "data": {
      "text/html": [
       "<div>\n",
       "<style scoped>\n",
       "    .dataframe tbody tr th:only-of-type {\n",
       "        vertical-align: middle;\n",
       "    }\n",
       "\n",
       "    .dataframe tbody tr th {\n",
       "        vertical-align: top;\n",
       "    }\n",
       "\n",
       "    .dataframe thead th {\n",
       "        text-align: right;\n",
       "    }\n",
       "</style>\n",
       "<table border=\"1\" class=\"dataframe\">\n",
       "  <thead>\n",
       "    <tr style=\"text-align: right;\">\n",
       "      <th></th>\n",
       "      <th>SOURCE</th>\n",
       "      <th>REVIEW BY</th>\n",
       "      <th>REVIEW DATE</th>\n",
       "      <th>REVIEW SUBJECT</th>\n",
       "      <th>text</th>\n",
       "      <th>REVIEW RATING</th>\n",
       "      <th>REVIEW TYPE</th>\n",
       "      <th>AFFIN_score</th>\n",
       "    </tr>\n",
       "  </thead>\n",
       "  <tbody>\n",
       "    <tr>\n",
       "      <th>0</th>\n",
       "      <td>Trip Advisor</td>\n",
       "      <td>3612</td>\n",
       "      <td>2014-04-30</td>\n",
       "      <td>To commercial</td>\n",
       "      <td>reativly new temple big hindu version disney l...</td>\n",
       "      <td>2</td>\n",
       "      <td>NEGATIVE</td>\n",
       "      <td>-0.001931</td>\n",
       "    </tr>\n",
       "    <tr>\n",
       "      <th>1</th>\n",
       "      <td>Trip Advisor</td>\n",
       "      <td>9573519851</td>\n",
       "      <td>2015-07-24</td>\n",
       "      <td>?Amazing temple in Bangalore?</td>\n",
       "      <td>friends enjoyed lot iskcon temple one biggest ...</td>\n",
       "      <td>5</td>\n",
       "      <td>POSITIVE</td>\n",
       "      <td>0.029412</td>\n",
       "    </tr>\n",
       "  </tbody>\n",
       "</table>\n",
       "</div>"
      ],
      "text/plain": [
       "         SOURCE   REVIEW BY REVIEW DATE                 REVIEW SUBJECT  \\\n",
       "0  Trip Advisor        3612  2014-04-30                  To commercial   \n",
       "1  Trip Advisor  9573519851  2015-07-24  ?Amazing temple in Bangalore?   \n",
       "\n",
       "                                                text  REVIEW RATING  \\\n",
       "0  reativly new temple big hindu version disney l...              2   \n",
       "1  friends enjoyed lot iskcon temple one biggest ...              5   \n",
       "\n",
       "  REVIEW TYPE  AFFIN_score  \n",
       "0    NEGATIVE    -0.001931  \n",
       "1    POSITIVE     0.029412  "
      ]
     },
     "execution_count": 265,
     "metadata": {},
     "output_type": "execute_result"
    }
   ],
   "source": [
    "df.head(2)"
   ]
  },
  {
   "cell_type": "code",
   "execution_count": 266,
   "id": "7d5875a3",
   "metadata": {},
   "outputs": [
    {
     "data": {
      "image/png": "[encoded data removed]",
      "text/plain": [
       "<Figure size 640x480 with 1 Axes>"
      ]
     },
     "metadata": {},
     "output_type": "display_data"
    }
   ],
   "source": [
    "grouped = dict(tuple(df.groupby('REVIEW TYPE')))\n",
    "for key in grouped:\n",
    "    plt.hist(grouped[key]['AFFIN_score'], alpha=0.5, label=key, bins=50)\n",
    "plt.xlabel('AFFIN_score')\n",
    "plt.ylabel('Frequency')\n",
    "plt.legend(loc='upper right')\n",
    "plt.show()"
   ]
  },
  {
   "cell_type": "code",
   "execution_count": 267,
   "id": "0b3335cd",
   "metadata": {},
   "outputs": [
    {
     "data": {
      "image/png": "[encoded data removed]",
      "text/plain": [
       "<Figure size 640x480 with 1 Axes>"
      ]
     },
     "metadata": {},
     "output_type": "display_data"
    }
   ],
   "source": [
    "grouped = dict(tuple(df.groupby('REVIEW TYPE')))\n",
    "for key in grouped:\n",
    "    plt.hist(grouped[key]['AFFIN_score'], alpha=0.3, label=key, bins=50, range=(-0.1,0.15))\n",
    "plt.xlabel('AFFIN_score')\n",
    "plt.ylabel('Frequency')\n",
    "plt.legend(loc='upper right')\n",
    "plt.show()"
   ]
  },
  {
   "cell_type": "code",
   "execution_count": 268,
   "id": "cd7cb67c",
   "metadata": {},
   "outputs": [],
   "source": [
    "df.loc[df['AFFIN_score']>0, 'Polarity'] = 'POSITIVE'\n",
    "df.loc[df['AFFIN_score']==0, 'Polarity'] = 'MIXED'\n",
    "df.loc[df['AFFIN_score']<0, 'Polarity'] = 'NEGATIVE'"
   ]
  },
  {
   "cell_type": "code",
   "execution_count": 269,
   "id": "8b9a8e6b",
   "metadata": {},
   "outputs": [
    {
     "data": {
      "text/html": [
       "<div>\n",
       "<style scoped>\n",
       "    .dataframe tbody tr th:only-of-type {\n",
       "        vertical-align: middle;\n",
       "    }\n",
       "\n",
       "    .dataframe tbody tr th {\n",
       "        vertical-align: top;\n",
       "    }\n",
       "\n",
       "    .dataframe thead th {\n",
       "        text-align: right;\n",
       "    }\n",
       "</style>\n",
       "<table border=\"1\" class=\"dataframe\">\n",
       "  <thead>\n",
       "    <tr style=\"text-align: right;\">\n",
       "      <th>Predicted</th>\n",
       "      <th>MIXED</th>\n",
       "      <th>NEGATIVE</th>\n",
       "      <th>POSITIVE</th>\n",
       "    </tr>\n",
       "    <tr>\n",
       "      <th>Actual</th>\n",
       "      <th></th>\n",
       "      <th></th>\n",
       "      <th></th>\n",
       "    </tr>\n",
       "  </thead>\n",
       "  <tbody>\n",
       "    <tr>\n",
       "      <th>MIXED</th>\n",
       "      <td>17</td>\n",
       "      <td>7</td>\n",
       "      <td>253</td>\n",
       "    </tr>\n",
       "    <tr>\n",
       "      <th>NEGATIVE</th>\n",
       "      <td>44</td>\n",
       "      <td>32</td>\n",
       "      <td>194</td>\n",
       "    </tr>\n",
       "    <tr>\n",
       "      <th>NEUTRAL</th>\n",
       "      <td>9</td>\n",
       "      <td>2</td>\n",
       "      <td>81</td>\n",
       "    </tr>\n",
       "    <tr>\n",
       "      <th>POSITIVE</th>\n",
       "      <td>365</td>\n",
       "      <td>45</td>\n",
       "      <td>3588</td>\n",
       "    </tr>\n",
       "  </tbody>\n",
       "</table>\n",
       "</div>"
      ],
      "text/plain": [
       "Predicted  MIXED  NEGATIVE  POSITIVE\n",
       "Actual                              \n",
       "MIXED         17         7       253\n",
       "NEGATIVE      44        32       194\n",
       "NEUTRAL        9         2        81\n",
       "POSITIVE     365        45      3588"
      ]
     },
     "execution_count": 269,
     "metadata": {},
     "output_type": "execute_result"
    }
   ],
   "source": [
    "confusion_matrix = pd.crosstab(df['REVIEW TYPE'], df['Polarity'], rownames=['Actual'], colnames=['Predicted'])\n",
    "confusion_matrix"
   ]
  },
  {
   "cell_type": "code",
   "execution_count": 270,
   "id": "6942c921",
   "metadata": {},
   "outputs": [
    {
     "name": "stdout",
     "output_type": "stream",
     "text": [
      "Accuracy: 78.43433254259219 %\n"
     ]
    }
   ],
   "source": [
    "# Calculate the accuracy\n",
    "matches = df['REVIEW TYPE'] == df['Polarity']\n",
    "accuracy = sum(matches) / len(matches) * 100\n",
    "\n",
    "# Print the accuracy\n",
    "print('Accuracy:', accuracy, '%')"
   ]
  },
  {
   "cell_type": "markdown",
   "id": "846e50ff",
   "metadata": {},
   "source": [
    "AFINN Lexicon was used to predict the sentiments of reviews. Each word in a review is tokenized and given a score based on the AFFIN lexicon library. The overall AFFIN score of a review is the average score of the review. \n",
    "\n",
    "In order to assess the performance of the model, histograms and a confusion matrix were constructed. \n",
    "Reviews with AFFIN score larger than 0 are assigned to be 'POSITIVE'. \n",
    "Reviews with AFFIN score equal to 0 are assigned to be 'MIXED'. \n",
    "Reviews with AFFIN score smaller than 0 are assigned to be 'NEGATIVE'. \n",
    "\n",
    "The accuracy of the model in predicting the sentiments is 78.43%. One obvious drawback of this model is that it is not able to distinguish between mixed and neutral reviews as order does not matter in this model. It is also impossible to find cut-offs that can effectively separate reviews with different sentiments because the AFFIN scores are very close and even indistinguishable as shown by the histograms."
   ]
  },
  {
   "cell_type": "markdown",
   "id": "669ab0eb",
   "metadata": {},
   "source": [
    "# Question 7"
   ]
  },
  {
   "cell_type": "markdown",
   "id": "21637e71",
   "metadata": {},
   "source": [
    "## NRC Lexcion"
   ]
  },
  {
   "cell_type": "code",
   "execution_count": 271,
   "id": "3b5c8302",
   "metadata": {},
   "outputs": [],
   "source": [
    "def summarize_emotion(text):\n",
    "    '''\n",
    "    This function takes a text object, tokenizes it, \n",
    "    uses NRC to extract emotions from it, and returns the top 3 most intense emotions.\n",
    "    '''\n",
    "    \n",
    "    text_tokenized = word_tokenize(text)\n",
    "    emotion_dict = {}\n",
    "    output_dict = {}\n",
    "    \n",
    "    for i in range(len(text_tokenized)):\n",
    "        emotions = NRCLex(text_tokenized[i]).top_emotions\n",
    "        for emo, score in emotions:\n",
    "            if emo in emotion_dict:\n",
    "                emotion_dict[emo] += score\n",
    "            else:\n",
    "                emotion_dict[emo] = score\n",
    "    sorted_emo = sorted(emotion_dict.items(), key=lambda x: x[1], reverse=True)\n",
    "    \n",
    "    if len(sorted_emo) < 3:\n",
    "        for i in range(len(sorted_emo)):\n",
    "            output_dict[sorted_emo[i][0]] = sorted_emo[i][1]/len(text_tokenized)\n",
    "    else:\n",
    "        for i in range(3):\n",
    "            output_dict[sorted_emo[i][0]] = sorted_emo[i][1]/len(text_tokenized)\n",
    "        \n",
    "    return output_dict"
   ]
  },
  {
   "cell_type": "code",
   "execution_count": 272,
   "id": "b3c3161d",
   "metadata": {},
   "outputs": [],
   "source": [
    "df['Emotions'] = df['text'].apply(summarize_emotion)"
   ]
  },
  {
   "cell_type": "code",
   "execution_count": 273,
   "id": "9c3df5a4",
   "metadata": {},
   "outputs": [],
   "source": [
    "for index, row in df.iterrows():\n",
    "    j = 1\n",
    "    for key, value in row['Emotions'].items():\n",
    "        if float(value) == 0.0:\n",
    "            continue\n",
    "        df.loc[index, f'Emotion_{j}'] = key\n",
    "        j += 1"
   ]
  },
  {
   "cell_type": "code",
   "execution_count": 274,
   "id": "42bb2271",
   "metadata": {},
   "outputs": [
    {
     "data": {
      "text/html": [
       "<div>\n",
       "<style scoped>\n",
       "    .dataframe tbody tr th:only-of-type {\n",
       "        vertical-align: middle;\n",
       "    }\n",
       "\n",
       "    .dataframe tbody tr th {\n",
       "        vertical-align: top;\n",
       "    }\n",
       "\n",
       "    .dataframe thead th {\n",
       "        text-align: right;\n",
       "    }\n",
       "</style>\n",
       "<table border=\"1\" class=\"dataframe\">\n",
       "  <thead>\n",
       "    <tr style=\"text-align: right;\">\n",
       "      <th></th>\n",
       "      <th>SOURCE</th>\n",
       "      <th>REVIEW BY</th>\n",
       "      <th>REVIEW DATE</th>\n",
       "      <th>REVIEW SUBJECT</th>\n",
       "      <th>text</th>\n",
       "      <th>REVIEW RATING</th>\n",
       "      <th>REVIEW TYPE</th>\n",
       "      <th>AFFIN_score</th>\n",
       "      <th>Polarity</th>\n",
       "      <th>Emotions</th>\n",
       "      <th>Emotion_1</th>\n",
       "      <th>Emotion_2</th>\n",
       "      <th>Emotion_3</th>\n",
       "    </tr>\n",
       "  </thead>\n",
       "  <tbody>\n",
       "    <tr>\n",
       "      <th>0</th>\n",
       "      <td>Trip Advisor</td>\n",
       "      <td>3612</td>\n",
       "      <td>2014-04-30</td>\n",
       "      <td>To commercial</td>\n",
       "      <td>reativly new temple big hindu version disney l...</td>\n",
       "      <td>2</td>\n",
       "      <td>NEGATIVE</td>\n",
       "      <td>-0.001931</td>\n",
       "      <td>NEGATIVE</td>\n",
       "      <td>{'positive': 0.10810810810810811, 'anticipatio...</td>\n",
       "      <td>positive</td>\n",
       "      <td>anticipation</td>\n",
       "      <td>joy</td>\n",
       "    </tr>\n",
       "    <tr>\n",
       "      <th>1</th>\n",
       "      <td>Trip Advisor</td>\n",
       "      <td>9573519851</td>\n",
       "      <td>2015-07-24</td>\n",
       "      <td>?Amazing temple in Bangalore?</td>\n",
       "      <td>friends enjoyed lot iskcon temple one biggest ...</td>\n",
       "      <td>5</td>\n",
       "      <td>POSITIVE</td>\n",
       "      <td>0.029412</td>\n",
       "      <td>POSITIVE</td>\n",
       "      <td>{'positive': 0.1, 'fear': 0.0, 'anger': 0.0}</td>\n",
       "      <td>positive</td>\n",
       "      <td>NaN</td>\n",
       "      <td>NaN</td>\n",
       "    </tr>\n",
       "    <tr>\n",
       "      <th>2</th>\n",
       "      <td>Trip Advisor</td>\n",
       "      <td>???? ?</td>\n",
       "      <td>2016-07-28</td>\n",
       "      <td>A well maintained temple</td>\n",
       "      <td>otherworldly vibrations throuout sanctuary exc...</td>\n",
       "      <td>5</td>\n",
       "      <td>POSITIVE</td>\n",
       "      <td>0.030864</td>\n",
       "      <td>POSITIVE</td>\n",
       "      <td>{'positive': 0.1435185185185185, 'trust': 0.08...</td>\n",
       "      <td>positive</td>\n",
       "      <td>trust</td>\n",
       "      <td>joy</td>\n",
       "    </tr>\n",
       "  </tbody>\n",
       "</table>\n",
       "</div>"
      ],
      "text/plain": [
       "         SOURCE   REVIEW BY REVIEW DATE                 REVIEW SUBJECT  \\\n",
       "0  Trip Advisor        3612  2014-04-30                  To commercial   \n",
       "1  Trip Advisor  9573519851  2015-07-24  ?Amazing temple in Bangalore?   \n",
       "2  Trip Advisor      ???? ?  2016-07-28       A well maintained temple   \n",
       "\n",
       "                                                text  REVIEW RATING  \\\n",
       "0  reativly new temple big hindu version disney l...              2   \n",
       "1  friends enjoyed lot iskcon temple one biggest ...              5   \n",
       "2  otherworldly vibrations throuout sanctuary exc...              5   \n",
       "\n",
       "  REVIEW TYPE  AFFIN_score  Polarity  \\\n",
       "0    NEGATIVE    -0.001931  NEGATIVE   \n",
       "1    POSITIVE     0.029412  POSITIVE   \n",
       "2    POSITIVE     0.030864  POSITIVE   \n",
       "\n",
       "                                            Emotions Emotion_1     Emotion_2  \\\n",
       "0  {'positive': 0.10810810810810811, 'anticipatio...  positive  anticipation   \n",
       "1       {'positive': 0.1, 'fear': 0.0, 'anger': 0.0}  positive           NaN   \n",
       "2  {'positive': 0.1435185185185185, 'trust': 0.08...  positive         trust   \n",
       "\n",
       "  Emotion_3  \n",
       "0       joy  \n",
       "1       NaN  \n",
       "2       joy  "
      ]
     },
     "execution_count": 274,
     "metadata": {},
     "output_type": "execute_result"
    }
   ],
   "source": [
    "df.head(3)"
   ]
  },
  {
   "cell_type": "code",
   "execution_count": 275,
   "id": "b24f4e59",
   "metadata": {},
   "outputs": [
    {
     "data": {
      "image/png": "[encoded data removed]",
      "text/plain": [
       "<Figure size 640x480 with 1 Axes>"
      ]
     },
     "metadata": {},
     "output_type": "display_data"
    }
   ],
   "source": [
    "counts = df['Emotion_1'].value_counts() + df['Emotion_2'].value_counts() + df['Emotion_3'].value_counts()\n",
    "counts.plot.bar()\n",
    "plt.xlabel('Emotion')\n",
    "plt.ylabel('Frequency')\n",
    "plt.show()"
   ]
  },
  {
   "cell_type": "markdown",
   "id": "a1946b46",
   "metadata": {},
   "source": [
    "The NRC Lexcion model was used to extract emotions from reviews using the NRC library. The reviews were tokenized before being fed into the model. Using the NRC library, emotion scores were assigned to each word. Average emotion score for each emotion was calculated and aggregated for each review. The top three emotions with the highest scores of a review are listed in the columns named 'Emotion_1', 'Emotion_2', and Emotion_3'. "
   ]
  },
  {
   "cell_type": "markdown",
   "id": "fcc30dbe",
   "metadata": {},
   "source": [
    "As can be seened from the bar chart, the majority of reviews was classifed to contain positive and trust as their top three emotions. Very few reviews have fear, anger, joy, and sadness in their top three emotions. "
   ]
  }
 ],
 "metadata": {
  "kernelspec": {
   "display_name": "Python 3 (ipykernel)",
   "language": "python",
   "name": "python3"
  },
  "language_info": {
   "codemirror_mode": {
    "name": "ipython",
    "version": 3
   },
   "file_extension": ".py",
   "mimetype": "text/x-python",
   "name": "python",
   "nbconvert_exporter": "python",
   "pygments_lexer": "ipython3",
   "version": "3.9.15"
  }
 },
 "nbformat": 4,
 "nbformat_minor": 5
}
